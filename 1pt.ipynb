{
 "cells": [
  {
   "cell_type": "markdown",
   "id": "abf3e916",
   "metadata": {},
   "source": [
    "### **Title:**\n",
    "Data Science Tools and Ecosystem"
   ]
  },
  {
   "cell_type": "markdown",
   "id": "0c3e1a34",
   "metadata": {},
   "source": [
    "### Introduction:\n",
    "In this notebook, Data Science Tools and Ecosystem are summarized."
   ]
  },
  {
   "cell_type": "markdown",
   "id": "0c0475b4",
   "metadata": {},
   "source": [
    "### **list data science languages:**\n",
    "- [Python](#Python)<br>\n",
    "- [R](#R)<br>\n",
    "- [Java](#Java)<br>\n",
    "- [Oracle](#Oracle)<br>\n",
    "- [Julia](#Julia)<br>\n",
    "- [SQL](#SQL)<br>\n",
    "- [Scala](#Scala)<br>\n",
    "- [JavaScript](#JavaScript)<br>\n",
    "- [MATLAB](#MATLAB)<br>"
   ]
  },
  {
   "cell_type": "markdown",
   "id": "ff8bbeff",
   "metadata": {},
   "source": [
    "###   List (of Some) data science libraries:\n",
    "\n",
    "- [NumPy](#VumPy)<br>\n",
    "- [Pandas](#Pandas)<br>\n",
    "- [Matplotlib](#Matplotlib)<br>\n",
    "- [Seaborn](#Seaborn)<br>\n",
    "- [Tensorflow](#Tensorflow)<br>\n",
    "- [Scikit-Learn](#Scikit-Learn)<br>\n",
    "- [Librosa](#Librosa)<br>\n",
    "- [Librosa](#Librosa)<br>"
   ]
  },
  {
   "cell_type": "markdown",
   "id": "1d20c32f",
   "metadata": {},
   "source": [
    "### Table (some) of Data Science tools:\n",
    "| Data Science Tools |\n",
    "| --- |\n",
    "| Apache Spark |\n",
    "| KNIME |\n",
    "| Apache Flink |\n",
    "| Matplotlib |\n",
    "| Jupyter Notebook |\n",
    "| MongoDB |\n",
    "| Julia |\n",
    "| Scikit Learn |\n",
    "| TensorFlow |\n",
    "| Apache Hadoop |\n",
    "| QlikView |\n",
    "| Tableau |\n",
    "| Google Analytics |\n",
    "| SAS |\n",
    "| BigML |\n",
    "| Minitab |"
   ]
  },
  {
   "cell_type": "code",
   "execution_count": 6,
   "id": "d98aee37",
   "metadata": {},
   "outputs": [
    {
     "data": {
      "text/latex": [
       "$\\displaystyle 2 \\cdot  \\begin{bmatrix} 1 \\\\ -2 \\\\ \\end{bmatrix} -1 \\cdot \\begin{bmatrix} 2 \\\\ -3 \\\\ \\end{bmatrix} +1 \\cdot \\begin{bmatrix} -3 \\\\ 1 \\\\ \\end{bmatrix} -1 \\cdot \\begin{bmatrix} 1 \\\\ -1 \\\\ \\end{bmatrix}= \\begin{bmatrix} -4 \\\\ 1 \\\\ \\end{bmatrix}$"
      ],
      "text/plain": [
       "<IPython.core.display.Math object>"
      ]
     },
     "metadata": {},
     "output_type": "display_data"
    }
   ],
   "source": [
    "from IPython.display import display, Math, Latex\n",
    "display(Math(r'2 \\cdot  \\begin{bmatrix} 1 \\\\ -2 \\\\ \\end{bmatrix} -1 \\cdot \\begin{bmatrix} 2 \\\\ -3 \\\\ \\end{bmatrix} +1 \\cdot \\begin{bmatrix} -3 \\\\ 1 \\\\ \\end{bmatrix} -1 \\cdot \\begin{bmatrix} 1 \\\\ -1 \\\\ \\end{bmatrix}= \\begin{bmatrix} -4 \\\\ 1 \\\\ \\end{bmatrix}'))"
   ]
  },
  {
   "cell_type": "code",
   "execution_count": 7,
   "id": "f4575bfe",
   "metadata": {},
   "outputs": [
    {
     "data": {
      "text/plain": [
       "17"
      ]
     },
     "execution_count": 7,
     "metadata": {},
     "output_type": "execute_result"
    }
   ],
   "source": [
    "### Below are a few examples of evaluating arithmetic expressions in Python\n",
    "(3*4)+5"
   ]
  },
  {
   "cell_type": "code",
   "execution_count": 8,
   "id": "75ead39a",
   "metadata": {},
   "outputs": [
    {
     "name": "stdout",
     "output_type": "stream",
     "text": [
      "Hours= 3\n",
      "Minutes= 20\n"
     ]
    }
   ],
   "source": [
    "# This will convert 200 minutes to hours by diving by 60\n",
    "min=200\n",
    "h=min//60\n",
    "m=min%60\n",
    "print(\"Hours=\",h)\n",
    "print(\"Minutes=\",m)"
   ]
  },
  {
   "cell_type": "markdown",
   "id": "986e1544",
   "metadata": {},
   "source": [
    "### **List Objectives of data science languages:**\n",
    "- Develop programming abilities.<br>\n",
    "- Demonstrate proficiency with statistical analysis of data.<br>\n",
    "- Develop the ability to build and assess data-based models.<br>\n",
    "- Execute statistical analyses with professional statistical software.<br>\n",
    "- Demonstrate skill in data management.<br>\n",
    "- Apply data science concepts and methods to solve problems.<br>\n"
   ]
  },
  {
   "cell_type": "markdown",
   "id": "16fc5710",
   "metadata": {},
   "source": [
    "### **Author**\n",
    "Abdullah Qayed"
   ]
  }
 ],
 "metadata": {
  "kernelspec": {
   "display_name": "Python 3 (ipykernel)",
   "language": "python",
   "name": "python3"
  },
  "language_info": {
   "codemirror_mode": {
    "name": "ipython",
    "version": 3
   },
   "file_extension": ".py",
   "mimetype": "text/x-python",
   "name": "python",
   "nbconvert_exporter": "python",
   "pygments_lexer": "ipython3",
   "version": "3.11.5"
  }
 },
 "nbformat": 4,
 "nbformat_minor": 5
}
